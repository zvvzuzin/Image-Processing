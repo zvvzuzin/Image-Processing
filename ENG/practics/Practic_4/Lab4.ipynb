{
 "cells": [
  {
   "cell_type": "markdown",
   "metadata": {},
   "source": [
    "# Practical lesson №4. The image historgam. Autocontrast."
   ]
  },
  {
   "cell_type": "code",
   "execution_count": 100,
   "metadata": {},
   "outputs": [],
   "source": [
    "from skimage.io import imread, imshow, imsave\n",
    "from skimage import img_as_float, img_as_ubyte\n",
    "from skimage.color import rgb2gray\n",
    "import numpy as np\n",
    "import matplotlib.pyplot as plt\n",
    "%matplotlib inline"
   ]
  },
  {
   "cell_type": "markdown",
   "metadata": {},
   "source": [
    "### Task №1. Autocontrast\n",
    "Read an image from img_1.png. Print the image and its histogram. Убидетесь используя гистограмму что изображение можно улучшить. Apply linear brightness alignment to each pixel of the image using formula:\n",
    "\n",
    "$f(x)=(x-x_{min})\\frac{255}{x_{max} - x_{min}}$\n",
    "\n",
    "wher $x$ is the value of the pixel, $x_{min}$ is the minimum value of image, $x_{max}$ is the maximum value of image anf $f(x)$ is the new value of the pixel.\n",
    "\n",
    "Show the resulting image and its histogram.\n",
    "Remember about the image type, formula above can be applied to byte image. If you use float image in range from 0 to 1 you must use formula above:\n",
    "\n",
    "$f(x)=(x-x_{min})\\frac{1}{x_{max} - x_{min}}$"
   ]
  },
  {
   "cell_type": "code",
   "execution_count": 58,
   "metadata": {},
   "outputs": [],
   "source": [
    "# Code here"
   ]
  },
  {
   "cell_type": "markdown",
   "metadata": {},
   "source": [
    "### Task №2. Steady autocontrast\n",
    "Load an image from the img_2 file.png. Write a function that implements a stable autocontrast of the image.The steady autocontrast ignores some number of darkest and lightest pixels of the image.\n",
    "\n",
    "The input of the function is the image and two parameters in percentage: the number of the darkest pixels to be discarded and the number of the lightest pixels to be discarded."
   ]
  },
  {
   "cell_type": "code",
   "execution_count": null,
   "metadata": {},
   "outputs": [],
   "source": [
    "def (img, low, high):\n",
    "    # Код тут\n",
    "    \n",
    "    return new_img"
   ]
  },
  {
   "cell_type": "markdown",
   "metadata": {},
   "source": [
    "### Task number №3. Autocontrast of color images\n",
    "Read the color image from img_3.png. Apply stable autocontrast to it:\n",
    "1. Turn the image into a real number between 0 and 1.\n",
    "2. Translate the image into YUV space according to the formulas:\n",
    "<br />\n",
    "$Y = 0.2126\\times R+0.7152\\times G+0.0722\\times B;$\n",
    "<br />\n",
    "$U =-0.0999\\times R−0.3360\\times G+0.4360\\times B;$\n",
    "<br />\n",
    "$V = 0.6150\\times R-0.5586\\times G-0.0563\\times B.$\n",
    "3. Find the maximum and minimum for the steady autocontrast with dropping 5% of the lightest and 5% of the darkest pixels.\n",
    "4. Apply the linear stretching of the $Y$ channel using the formula\n",
    "<br />\n",
    "$f(x)=(x-x_{min})\\frac{255}{x_{max} - x_{min}}.$\n",
    "5. Clip the $Y$ channel values from 0 to 1.\n",
    "6. Convert the image in the $RGB$ space according to the formulas:\n",
    "<br />\n",
    "$R = Y+1.2803\\times V;$\n",
    "<br />\n",
    "$G = Y−0.2148\\times U-0.3805\\times V;$\n",
    "<br />\n",
    "$B = Y+2.1279\\times U.$\n",
    "7. Clip the image values from 0 to 1.\n",
    "8. Convert the image into integers from 0 to 255."
   ]
  },
  {
   "cell_type": "code",
   "execution_count": 1,
   "metadata": {},
   "outputs": [],
   "source": [
    "# Code here"
   ]
  }
 ],
 "metadata": {
  "kernelspec": {
   "display_name": "Python 3",
   "language": "python",
   "name": "python3"
  },
  "language_info": {
   "codemirror_mode": {
    "name": "ipython",
    "version": 3
   },
   "file_extension": ".py",
   "mimetype": "text/x-python",
   "name": "python",
   "nbconvert_exporter": "python",
   "pygments_lexer": "ipython3",
   "version": "3.6.8"
  }
 },
 "nbformat": 4,
 "nbformat_minor": 2
}
