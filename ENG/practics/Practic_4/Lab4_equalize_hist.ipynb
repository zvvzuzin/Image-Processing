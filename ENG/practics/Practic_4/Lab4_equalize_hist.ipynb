{
 "cells": [
  {
   "cell_type": "markdown",
   "metadata": {},
   "source": [
    "# Practical lesson №4. Equalize histogram. (Additional task)"
   ]
  },
  {
   "cell_type": "markdown",
   "metadata": {},
   "source": [
    "Read the image img_2.png. Apply histogram equalization to it so that the cumulative distribution function (cdf) will be linear.\n",
    "The formula for converting image pixels:\n",
    "\n",
    "$f(x) = \\frac{cdf(x) - cdf_{min}}{N - 1}$,\n",
    "\n",
    "where $cdf$ - the cumulative distribution function, $N$ - the number of image pixels, $cdf_{min}$ - the minimum value of $cdf$ not equal 0. \n",
    "\n",
    "Hint:\n",
    "$cdf$ equals the cumulative sum of the columns of the image histogram (np.cumsum)\n",
    "\n",
    "Show the image before and after the histogram equalization.\n",
    "Show histograms of both images and their $cdf$."
   ]
  },
  {
   "cell_type": "code",
   "execution_count": null,
   "metadata": {},
   "outputs": [],
   "source": []
  }
 ],
 "metadata": {
  "kernelspec": {
   "display_name": "Python 3",
   "language": "python",
   "name": "python3"
  },
  "language_info": {
   "codemirror_mode": {
    "name": "ipython",
    "version": 3
   },
   "file_extension": ".py",
   "mimetype": "text/x-python",
   "name": "python",
   "nbconvert_exporter": "python",
   "pygments_lexer": "ipython3",
   "version": "3.6.5"
  }
 },
 "nbformat": 4,
 "nbformat_minor": 2
}
