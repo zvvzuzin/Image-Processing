{
 "cells": [
  {
   "cell_type": "markdown",
   "metadata": {},
   "source": [
    "# Practical lesson №5. Filtering image. Box-filtering"
   ]
  },
  {
   "cell_type": "markdown",
   "metadata": {},
   "source": [
    "### Task №1.\n",
    "\n",
    "Read the image parrot.png (in grayscale) and implement Box filtering. You do not need add rows and columns in image (as a result its shape will decrease).\n",
    "<br />\n",
    "Take the $20 \\times 20 $ filter kernel. \n",
    "\n",
    "Display the result and execution time.\n",
    "\n",
    "Hint:\n",
    "<br />\n",
    "It is a time-consuming operation. So for tracking (it means that our process is been performing and not stopped) the calculation process we will use module tqdm. Example of using tqdm is below."
   ]
  },
  {
   "cell_type": "code",
   "execution_count": 1,
   "metadata": {},
   "outputs": [
    {
     "name": "stderr",
     "output_type": "stream",
     "text": [
      "100%|██████████| 50000/50000 [00:06<00:00, 7315.69it/s]\n"
     ]
    }
   ],
   "source": [
    "import numpy as np\n",
    "from tqdm import tqdm\n",
    "\n",
    "n_trials = 50000                   # Number of iterations.\n",
    "pbar = tqdm(total=n_trials)        # Initialize pbar\n",
    "\n",
    "\n",
    "arr_1 = np.random.rand(500,500)\n",
    "arr_2 = np.random.rand(500,500)\n",
    "\n",
    "for it in np.arange(50000):\n",
    "    \n",
    "    arr_1 * arr_2;\n",
    "    \n",
    "    pbar.update()                 # update pbar on each iteration\n",
    "\n",
    "pbar.close() "
   ]
  },
  {
   "cell_type": "code",
   "execution_count": 2,
   "metadata": {},
   "outputs": [
    {
     "name": "stdout",
     "output_type": "stream",
     "text": [
      "5.7416832447052\n"
     ]
    }
   ],
   "source": [
    "import numpy as np\n",
    "from time import time\n",
    "\n",
    "arr_1 = np.random.rand(500,500)\n",
    "arr_2 = np.random.rand(500,500)\n",
    "\n",
    "start_time = time()             # initializing time\n",
    "\n",
    "for it in np.arange(50000):\n",
    "    \n",
    "    arr_1 * arr_2;\n",
    "    \n",
    "print(time() - start_time)     # calculate execution time"
   ]
  },
  {
   "cell_type": "code",
   "execution_count": 1,
   "metadata": {},
   "outputs": [],
   "source": [
    "from skimage.io import imread, imshow, imsave\n",
    "from skimage import img_as_float, img_as_ubyte\n",
    "import numpy as np\n",
    "\n",
    "import matplotlib.pyplot as plt\n",
    "%matplotlib inline"
   ]
  },
  {
   "cell_type": "code",
   "execution_count": 3,
   "metadata": {},
   "outputs": [],
   "source": [
    "# Code here"
   ]
  },
  {
   "cell_type": "markdown",
   "metadata": {},
   "source": [
    "### Task №2.\n",
    "\n",
    "Read the image from the parrot file.png (in grayscale) and implement Box filtering ($20 \\times 20$ kernel) using integral image:\n",
    "<br />\n",
    "1. Get the integral image (skimage.transform.integral_image).\n",
    "2. Implement Box filtering using integral image.\n",
    "\n",
    "Display the result and execution time."
   ]
  },
  {
   "cell_type": "code",
   "execution_count": 3,
   "metadata": {},
   "outputs": [],
   "source": [
    "# Code here"
   ]
  }
 ],
 "metadata": {
  "kernelspec": {
   "display_name": "Python 3",
   "language": "python",
   "name": "python3"
  },
  "language_info": {
   "codemirror_mode": {
    "name": "ipython",
    "version": 3
   },
   "file_extension": ".py",
   "mimetype": "text/x-python",
   "name": "python",
   "nbconvert_exporter": "python",
   "pygments_lexer": "ipython3",
   "version": "3.6.8"
  }
 },
 "nbformat": 4,
 "nbformat_minor": 2
}
