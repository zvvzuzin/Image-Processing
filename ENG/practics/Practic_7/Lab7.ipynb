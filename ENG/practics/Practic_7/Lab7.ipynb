{
 "cells": [
  {
   "cell_type": "markdown",
   "metadata": {},
   "source": [
    "# Practical lesson №7. Image segmentation by adaptive methods"
   ]
  },
  {
   "cell_type": "markdown",
   "metadata": {},
   "source": [
    "## The Otsu method"
   ]
  },
  {
   "cell_type": "markdown",
   "metadata": {},
   "source": [
    "The task is to implement the Otsu method for image segmentation. Finding the threshold that allocates the background and objects in the image. It means that the splitting threshold represents the image as two classes.\n",
    "\n",
    "Histogram of image pixel intensities is $H(b), b = 0,L - 1$. $t$ is a threshold that divides the image $I(i,j)$ into two classes:\n",
    "\n",
    "$I_0$ is the background that includes points $(i,j)$ for which the condition is true $I(i,j) \\leq t$,\n",
    "\n",
    "$I_1$ is the object that includes points $(i,j)$ for which the condition is true $I(i,j) \\geq t$.\n",
    "\n",
    "We should carry out the normalization of the histogram $H(b) = \\frac{H(b)}{\\sum\\limits_{b=0}^{L-1}H(b)}$, thus $\\sum\\limits_{b=0}^{L-1}H(b) = 1$.\n",
    "\n",
    "The probability of a random pixel for the background can be written as:\n",
    "\n",
    "$\\omega_0(t)=\\sum\\limits_{b=0}^{t}H(b)$ \n",
    "\n",
    "The probability of a random pixel for the object can be written as:\n",
    "\n",
    "$\\omega_1(t)=\\sum\\limits_{b=t+1}^{L-1}H(b) = 1 - \\omega_0(t)$.\n",
    "\n",
    "The mean brightness levels for the background and the object can be found, respectively:\n",
    "\n",
    "$\\mu_0(t) = \\sum\\limits_{b=0}^{t}\\frac{b H(b)}{\\omega_0(t)}$,\n",
    "$\\mu_1(t) = \\sum\\limits_{b=t+1}^{L-1}\\frac{b H(b)}{\\omega_1(t)}$.\n",
    "\n",
    "The mean brightness level of the original image is as:\n",
    "\n",
    "$\\mu(t) = \\sum\\limits_{b=0}^{L-1}b H(b)$.\n",
    "\n",
    "It is obvious that for any threshold $t$ the formula is valid:\n",
    "\n",
    "$\\omega_0(t)\\mu_0(t) + \\omega_1(t)\\mu_1(t) = \\mu$\n",
    "\n",
    "The brightness variances of the background and the object are calculated by the formulas:\n",
    "\n",
    "$\\sigma_0^2(t) = \\sum\\limits_{b=0}^{t}\\frac{(b - \\mu_0(t))^2 H(b)}{\\omega_0(t)}$,\n",
    "$\\sigma_1^2(t) = \\sum\\limits_{b=t+1}^{L-1}\\frac{(b - \\mu_1(t))^2 H(b)}{\\omega_1(t)}$.\n",
    "\n",
    "The within groups (classes) variance is determined by the formula:\n",
    "\n",
    "$\\sigma_{Within}^2(t) = \\omega_0(t)\\sigma_0^2(t) + \\omega_1(t)\\sigma_1^2(t)$\n",
    "\n",
    "The between groups (classes) variance is determined by the formula:\n",
    "\n",
    "$\\sigma_{Between}^2(t) = \\sigma^2 - \\sigma_{Within}^2(t) = \\omega_0(t)(\\mu_0(t) - \\mu)^2 + \\omega_1(t)(\\mu_1(t) - \\mu)^2 = \\omega_0(t)\\omega_1(t)(\\mu_0(t) - \\mu_1(t))^2$,\n",
    "\n",
    "where $\\sigma^2 = \\sum\\limits_{b=0}^{L-1}(b-\\mu)^2 H(b) = \\sigma_{Between}^2(t) + \\sigma_{Within}^2(t)$ is the total variance.\n",
    "\n",
    "The Otsu method looks for a threshold that reduces the variance within a class, which, as shown above, is defined as the weighted sum of the variances of the two classes. It should be noted that this method is computationally expensive, since it requires the calculation of the variances $\\sigma_0^2(t)$ and $\\sigma_0^2(t)$.\n",
    "Otsu showed that minimizing within classes variance is equivalent to maximizing between class variance, so the total variance is a constant and does not depend on the threshold. To calculate within class variance is required, only the mean values of $\\mu$ that are more simple from the point of view of computation.\n",
    "\n",
    "### The algorithm\n",
    "1. Calculating the histogram of the image and normalize it.\n",
    "2. Calculating the values $\\omega_0(t)$, $\\omega_1(t)$, $\\mu_0(t)$, and $\\mu_1(t)$ for each threshold $t = 0, L-1$ based on the normilize histogram.\n",
    "3. Calculate $\\sigma_{Between}^2(t)$ for $t=0, L-1$.\n",
    "4. Finding the maximum value $\\sigma_{Between}^2(t)$, choose the threshold $t$ corresponding to the maximum value.\n",
    "\n",
    "Task:\n",
    "- Show the graphics $\\omega_0(t)$, $\\omega_1(t)$, $\\mu_0(t)$, and $\\mu_1(t)$ for each $t$.\n",
    "- Show binary images for belka.jpg and nuclea.png."
   ]
  },
  {
   "cell_type": "code",
   "execution_count": 1,
   "metadata": {},
   "outputs": [],
   "source": [
    "from skimage.io import imread, imshow\n",
    "from skimage import img_as_ubyte\n",
    "import numpy as np\n",
    "import matplotlib.pyplot as plt\n",
    "%matplotlib inline"
   ]
  },
  {
   "cell_type": "code",
   "execution_count": null,
   "metadata": {},
   "outputs": [],
   "source": []
  }
 ],
 "metadata": {
  "kernelspec": {
   "display_name": "Python 3",
   "language": "python",
   "name": "python3"
  },
  "language_info": {
   "codemirror_mode": {
    "name": "ipython",
    "version": 3
   },
   "file_extension": ".py",
   "mimetype": "text/x-python",
   "name": "python",
   "nbconvert_exporter": "python",
   "pygments_lexer": "ipython3",
   "version": "3.6.8"
  }
 },
 "nbformat": 4,
 "nbformat_minor": 2
}
