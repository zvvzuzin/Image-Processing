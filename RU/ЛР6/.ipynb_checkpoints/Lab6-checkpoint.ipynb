{
 "cells": [
  {
   "cell_type": "markdown",
   "metadata": {},
   "source": [
    "# Бинаризация изображений"
   ]
  },
  {
   "cell_type": "code",
   "execution_count": 2,
   "metadata": {},
   "outputs": [],
   "source": [
    "from skimage.io import imread, imshow\n",
    "import numpy as np\n",
    "%matplotlib inline"
   ]
  },
  {
   "cell_type": "markdown",
   "metadata": {},
   "source": [
    "Задание №1. Реализуйте бинаризацию изображения ultrasound.bmp так, чтобы исключить черный фон изображения. На выходе должно получиться бинарное изображение.\n",
    "Подсказка: Изображение в формате RGB, а бинаризация делается для полутонового изображения."
   ]
  },
  {
   "cell_type": "code",
   "execution_count": null,
   "metadata": {},
   "outputs": [],
   "source": []
  },
  {
   "cell_type": "markdown",
   "metadata": {},
   "source": [
    "Задание №2. Реализуйте бинаризацию изображения ultrasound.bmp и подберите порог интенсивности, чтобы область левого желудочка выделялась на изображении.\n",
    "\n",
    "Ответьте на вопрос: Можно ли подобрать такой порог, чтобы выделить область левого желудочка выделялась на изображении ultrasound_complex.bmp (не соприкасалась с фоном изображения, при этом была хорошо визуализирована)."
   ]
  },
  {
   "cell_type": "code",
   "execution_count": null,
   "metadata": {},
   "outputs": [],
   "source": []
  },
  {
   "cell_type": "markdown",
   "metadata": {},
   "source": [
    "Задание №3. Реализуйте двухпорогую бинаризацию изображения ultrasound_complex.bmp и подберите пороги так, чтобы  область левого желудочка не соприкасалась с фоном изорбражения и была хорошо визуализирована."
   ]
  },
  {
   "cell_type": "code",
   "execution_count": null,
   "metadata": {},
   "outputs": [],
   "source": []
  },
  {
   "cell_type": "markdown",
   "metadata": {},
   "source": [
    "Задание №4. В результате выполнения задания №3 получилось выделить область ЛЖ с черными (или белыми) пикселями внутри области ЛЖ. Необходимо выбрать один из фильтров (дилатация, эрозия, операция открытия, операция закрытия) и подобрать к нему ядро, чтобы снизить количество пропусков внутри области."
   ]
  },
  {
   "cell_type": "code",
   "execution_count": 47,
   "metadata": {},
   "outputs": [],
   "source": [
    "from skimage.morphology import dilation, erosion, opening, closing"
   ]
  },
  {
   "cell_type": "code",
   "execution_count": null,
   "metadata": {},
   "outputs": [],
   "source": []
  }
 ],
 "metadata": {
  "kernelspec": {
   "display_name": "Python 3",
   "language": "python",
   "name": "python3"
  },
  "language_info": {
   "codemirror_mode": {
    "name": "ipython",
    "version": 3
   },
   "file_extension": ".py",
   "mimetype": "text/x-python",
   "name": "python",
   "nbconvert_exporter": "python",
   "pygments_lexer": "ipython3",
   "version": "3.6.5"
  }
 },
 "nbformat": 4,
 "nbformat_minor": 2
}
